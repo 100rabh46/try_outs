{
 "cells": [
  {
   "cell_type": "code",
   "execution_count": 7,
   "metadata": {},
   "outputs": [],
   "source": [
    "import requests\n",
    "from bs4 import BeautifulSoup"
   ]
  },
  {
   "cell_type": "code",
   "execution_count": 15,
   "metadata": {},
   "outputs": [],
   "source": [
    "last_two_years = [\"https://summerofcode.withgoogle.com/archive/2019/organizations\",\n",
    "                  \"https://summerofcode.withgoogle.com/archive/2018/organizations\"]\n",
    "\n",
    "last_three_years = [\"https://summerofcode.withgoogle.com/archive/2019/organizations\",\n",
    "                  \"https://summerofcode.withgoogle.com/archive/2018/organizations\",\n",
    "                   \"https://summerofcode.withgoogle.com/archive/2017/organizations\"]"
   ]
  },
  {
   "cell_type": "code",
   "execution_count": 46,
   "metadata": {},
   "outputs": [],
   "source": [
    "def get_previous_years_orgs(previous_years):\n",
    "    previous_years_sets = []\n",
    "    for year in previous_years:\n",
    "        content = requests.get(year)\n",
    "\n",
    "        if content.status_code == 200:\n",
    "            \n",
    "            soup = BeautifulSoup(content.text, 'html.parser')\n",
    "            targets = soup.findAll(\"h4\", {\"class\":\"organization-card__name\"})\n",
    "\n",
    "            orgs = []\n",
    "            for target in targets:\n",
    "                orgs.append(target.text)\n",
    "\n",
    "            this_set = set(orgs)\n",
    "            previous_years_sets.append(this_set)\n",
    "            \n",
    "            first_set = previous_years_sets[0]\n",
    "            \n",
    "            iterator= 1\n",
    "            \n",
    "            while iterator < len(previous_years_sets):\n",
    "                first_set = first_set.intersection(previous_years_sets[iterator])\n",
    "                iterator += 1\n",
    "                \n",
    "    return list(first_set)\n",
    "            \n"
   ]
  },
  {
   "cell_type": "code",
   "execution_count": 47,
   "metadata": {},
   "outputs": [],
   "source": [
    "list1 = get_previous_years_orgs([\"https://summerofcode.withgoogle.com/archive/2019/organizations\"])"
   ]
  },
  {
   "cell_type": "code",
   "execution_count": 48,
   "metadata": {},
   "outputs": [],
   "source": [
    "list2 = get_previous_years_orgs([\"https://summerofcode.withgoogle.com/archive/2018/organizations\"])"
   ]
  },
  {
   "cell_type": "code",
   "execution_count": 52,
   "metadata": {},
   "outputs": [],
   "source": [
    "test1 = list(set(list1).intersection(set(list2)))"
   ]
  },
  {
   "cell_type": "code",
   "execution_count": 50,
   "metadata": {},
   "outputs": [],
   "source": [
    "test2 = get_previous_years_orgs(last_two_years)"
   ]
  },
  {
   "cell_type": "code",
   "execution_count": 54,
   "metadata": {},
   "outputs": [
    {
     "name": "stdout",
     "output_type": "stream",
     "text": [
      "Yes\n"
     ]
    }
   ],
   "source": [
    "test1.sort()\n",
    "test2.sort()\n",
    "if test1 == test2:\n",
    "    print(\"Yes\")\n",
    "else:\n",
    "    print(\"No\")"
   ]
  },
  {
   "cell_type": "code",
   "execution_count": null,
   "metadata": {},
   "outputs": [],
   "source": []
  }
 ],
 "metadata": {
  "kernelspec": {
   "display_name": "Python 3",
   "language": "python",
   "name": "python3"
  },
  "language_info": {
   "codemirror_mode": {
    "name": "ipython",
    "version": 3
   },
   "file_extension": ".py",
   "mimetype": "text/x-python",
   "name": "python",
   "nbconvert_exporter": "python",
   "pygments_lexer": "ipython3",
   "version": "3.6.9"
  }
 },
 "nbformat": 4,
 "nbformat_minor": 2
}
